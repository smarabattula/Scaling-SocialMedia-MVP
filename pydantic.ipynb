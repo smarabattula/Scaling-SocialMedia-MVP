{
 "cells": [
  {
   "cell_type": "code",
   "execution_count": 2,
   "metadata": {},
   "outputs": [
    {
     "name": "stdout",
     "output_type": "stream",
     "text": [
      "Defaulting to user installation because normal site-packages is not writeable\n",
      "Collecting pydantic\n",
      "  Using cached pydantic-2.10.6-py3-none-any.whl.metadata (30 kB)\n",
      "Collecting annotated-types>=0.6.0 (from pydantic)\n",
      "  Using cached annotated_types-0.7.0-py3-none-any.whl.metadata (15 kB)\n",
      "Collecting pydantic-core==2.27.2 (from pydantic)\n",
      "  Using cached pydantic_core-2.27.2-cp313-cp313-win_amd64.whl.metadata (6.7 kB)\n",
      "Requirement already satisfied: typing-extensions>=4.12.2 in c:\\users\\sasan\\appdata\\roaming\\python\\python313\\site-packages (from pydantic) (4.12.2)\n",
      "Using cached pydantic-2.10.6-py3-none-any.whl (431 kB)\n",
      "Using cached pydantic_core-2.27.2-cp313-cp313-win_amd64.whl (2.0 MB)\n",
      "Using cached annotated_types-0.7.0-py3-none-any.whl (13 kB)\n",
      "Installing collected packages: pydantic-core, annotated-types, pydantic\n",
      "Successfully installed annotated-types-0.7.0 pydantic-2.10.6 pydantic-core-2.27.2\n"
     ]
    },
    {
     "name": "stderr",
     "output_type": "stream",
     "text": [
      "\n",
      "[notice] A new release of pip is available: 24.2 -> 25.0.1\n",
      "[notice] To update, run: python.exe -m pip install --upgrade pip\n"
     ]
    }
   ],
   "source": [
    "!pip install pydantic"
   ]
  },
  {
   "cell_type": "code",
   "execution_count": 1,
   "metadata": {},
   "outputs": [
    {
     "ename": "ModuleNotFoundError",
     "evalue": "No module named 'pydantic'",
     "output_type": "error",
     "traceback": [
      "\u001b[1;31m---------------------------------------------------------------------------\u001b[0m",
      "\u001b[1;31mModuleNotFoundError\u001b[0m                       Traceback (most recent call last)",
      "Cell \u001b[1;32mIn[1], line 1\u001b[0m\n\u001b[1;32m----> 1\u001b[0m \u001b[38;5;28;01mimport\u001b[39;00m\u001b[38;5;250m \u001b[39m\u001b[38;5;21;01mpydantic\u001b[39;00m\n\u001b[0;32m      2\u001b[0m \u001b[38;5;28mprint\u001b[39m(pydantic\u001b[38;5;241m.\u001b[39m__version__)\n",
      "\u001b[1;31mModuleNotFoundError\u001b[0m: No module named 'pydantic'"
     ]
    }
   ],
   "source": [
    "import pydantic\n",
    "print(pydantic.__version__)"
   ]
  },
  {
   "cell_type": "markdown",
   "metadata": {},
   "source": [
    "Validation without Pydantic"
   ]
  },
  {
   "cell_type": "code",
   "execution_count": null,
   "metadata": {},
   "outputs": [
    {
     "name": "stdout",
     "output_type": "stream",
     "text": [
      "Expected id to be an int, got str\n"
     ]
    }
   ],
   "source": [
    "class User:\n",
    "    def __init__(self, id, name='Jane Doe'):\n",
    "        if not isinstance(id, int):\n",
    "            raise TypeError(f'Expected id to be an int, got {type(id).__name__}')\n",
    "\n",
    "        if not isinstance(name, str):\n",
    "            raise TypeError(f'Expected name to be a str, got {type(name).__name__}')\n",
    "\n",
    "        self.id = id\n",
    "        self.name = name\n",
    "\n",
    "try:\n",
    "    user = User(id='123')\n",
    "except TypeError as e:\n",
    "    print(e)\n"
   ]
  },
  {
   "cell_type": "markdown",
   "metadata": {},
   "source": [
    "With Pydantic"
   ]
  },
  {
   "cell_type": "code",
   "execution_count": 5,
   "metadata": {},
   "outputs": [],
   "source": [
    "from pydantic import BaseModel\n",
    "\n",
    "\n",
    "class User(BaseModel):\n",
    "    id: int\n",
    "    name: str = 'Jane Doe'\n"
   ]
  },
  {
   "cell_type": "code",
   "execution_count": null,
   "metadata": {},
   "outputs": [],
   "source": [
    "user1 = User(id='123')\n",
    "print(user1.id, type(user1.id))"
   ]
  },
  {
   "cell_type": "code",
   "execution_count": null,
   "metadata": {},
   "outputs": [
    {
     "name": "stdout",
     "output_type": "stream",
     "text": [
      "{'id', 'name'}\n"
     ]
    }
   ],
   "source": [
    "user2 = User(id='123', name='Joe Doe')\n",
    "print(user2.model_fields_set)"
   ]
  },
  {
   "cell_type": "code",
   "execution_count": 15,
   "metadata": {},
   "outputs": [
    {
     "name": "stdout",
     "output_type": "stream",
     "text": [
      "<class 'dict'> {'id': 123, 'name': 'Joe Doe'}\n",
      "<class 'str'> {\"id\":123,\"name\":\"Joe Doe\"}\n",
      "<class 'dict'> {'properties': {'id': {'title': 'Id', 'type': 'integer'}, 'name': {'default': 'Jane Doe', 'title': 'Name', 'type': 'string'}}, 'required': ['id'], 'title': 'User', 'type': 'object'}\n"
     ]
    }
   ],
   "source": [
    "serializable_ways = [user.model_dump(), user.model_dump_json(), user.model_json_schema()]\n",
    "for way in serializable_ways:\n",
    "    print(type(way), way)"
   ]
  },
  {
   "cell_type": "markdown",
   "metadata": {},
   "source": [
    "### Nested models"
   ]
  },
  {
   "cell_type": "code",
   "execution_count": 17,
   "metadata": {},
   "outputs": [
    {
     "name": "stdout",
     "output_type": "stream",
     "text": [
      "name='Tasty Bites' location='123, Flavor Street' foods=[Food(name='Cheese Pizza', price=12.5, ingredients=['Cheese', 'Tomato Sauce', 'Dough']), Food(name='Veggie Burger', price=8.99, ingredients=None)]\n",
      "{'name': 'Tasty Bites', 'location': '123, Flavor Street', 'foods': [{'name': 'Cheese Pizza', 'price': 12.5, 'ingredients': ['Cheese', 'Tomato Sauce', 'Dough']}, {'name': 'Veggie Burger', 'price': 8.99, 'ingredients': None}]}\n"
     ]
    }
   ],
   "source": [
    "from typing import List, Optional\n",
    "from pydantic import BaseModel\n",
    "\n",
    "\n",
    "class Food(BaseModel):\n",
    "    name: str\n",
    "    price: float\n",
    "    ingredients: Optional[List[str]] = None\n",
    "\n",
    "\n",
    "class Restaurant(BaseModel):\n",
    "    name: str\n",
    "    location: str\n",
    "    foods: List[Food]\n",
    "\n",
    "\n",
    "restaurant_instance = Restaurant(\n",
    "    name=\"Tasty Bites\",\n",
    "    location=\"123, Flavor Street\",\n",
    "    foods=[\n",
    "        {\"name\": \"Cheese Pizza\", \"price\": 12.50, \"ingredients\": [\"Cheese\", \"Tomato Sauce\", \"Dough\"]},\n",
    "        {\"name\": \"Veggie Burger\", \"price\": 8.99}\n",
    "    ]\n",
    ")\n",
    "\n",
    "print(restaurant_instance)\n",
    "print(restaurant_instance.model_dump())"
   ]
  },
  {
   "cell_type": "code",
   "execution_count": 18,
   "metadata": {},
   "outputs": [
    {
     "name": "stdout",
     "output_type": "stream",
     "text": [
      "Defaulting to user installation because normal site-packages is not writeable\n",
      "Requirement already satisfied: pydantic[email] in c:\\users\\sasan\\appdata\\roaming\\python\\python313\\site-packages (2.10.6)\n",
      "Requirement already satisfied: annotated-types>=0.6.0 in c:\\users\\sasan\\appdata\\roaming\\python\\python313\\site-packages (from pydantic[email]) (0.7.0)\n",
      "Requirement already satisfied: pydantic-core==2.27.2 in c:\\users\\sasan\\appdata\\roaming\\python\\python313\\site-packages (from pydantic[email]) (2.27.2)\n",
      "Requirement already satisfied: typing-extensions>=4.12.2 in c:\\users\\sasan\\appdata\\roaming\\python\\python313\\site-packages (from pydantic[email]) (4.12.2)\n",
      "Collecting email-validator>=2.0.0 (from pydantic[email])\n",
      "  Using cached email_validator-2.2.0-py3-none-any.whl.metadata (25 kB)\n",
      "Collecting dnspython>=2.0.0 (from email-validator>=2.0.0->pydantic[email])\n",
      "  Using cached dnspython-2.7.0-py3-none-any.whl.metadata (5.8 kB)\n",
      "Requirement already satisfied: idna>=2.0.0 in c:\\users\\sasan\\appdata\\roaming\\python\\python313\\site-packages (from email-validator>=2.0.0->pydantic[email]) (3.7)\n",
      "Using cached email_validator-2.2.0-py3-none-any.whl (33 kB)\n",
      "Using cached dnspython-2.7.0-py3-none-any.whl (313 kB)\n",
      "Installing collected packages: dnspython, email-validator\n",
      "Successfully installed dnspython-2.7.0 email-validator-2.2.0\n"
     ]
    },
    {
     "name": "stderr",
     "output_type": "stream",
     "text": [
      "\n",
      "[notice] A new release of pip is available: 24.2 -> 25.0.1\n",
      "[notice] To update, run: python.exe -m pip install --upgrade pip\n"
     ]
    }
   ],
   "source": [
    "!pip install pydantic[email]"
   ]
  },
  {
   "cell_type": "code",
   "execution_count": 3,
   "metadata": {},
   "outputs": [
    {
     "name": "stdout",
     "output_type": "stream",
     "text": [
      "name='Tasty Bites' owner=Owner(name='JohnDoe', email='john.doe@example.com') address=Address(street='123, Flavor Street', city='Tastytown', state='TS', zip_code='12345') employees=[Employee(name='Jane Doe', position='Chef', email='jane.doe@example.com'), Employee(name='Mike Roe', position='Waiter', email='mike.roe@example.com')] number_of_seats=50 delivery=True website=HttpUrl('http://tastybites.com/')\n"
     ]
    }
   ],
   "source": [
    "from typing import List\n",
    "from pydantic import BaseModel, EmailStr, PositiveInt, conlist, Field, HttpUrl\n",
    "\n",
    "class Address(BaseModel):\n",
    "    street: str\n",
    "    city: str\n",
    "    state: str\n",
    "    zip_code: str\n",
    "\n",
    "class Employee(BaseModel):\n",
    "    name: str\n",
    "    position: str\n",
    "    email: EmailStr\n",
    "\n",
    "class Owner(BaseModel):\n",
    "    name: str\n",
    "    email: EmailStr\n",
    "\n",
    "class Restaurant(BaseModel):\n",
    "    name: str = Field(..., pattern=r\"^[a-zA-Z0-9-' ]+$\")\n",
    "    owner: Owner\n",
    "    address: Address\n",
    "    employees: conlist(Employee, min_length=2)\n",
    "    number_of_seats: PositiveInt\n",
    "    delivery: bool\n",
    "    website: HttpUrl\n",
    "\n",
    "# Creating an instance of the Restaurant class\n",
    "restaurant_instance = Restaurant(\n",
    "    name=\"Tasty Bites\",\n",
    "    owner={\n",
    "        \"name\": \"JohnDoe\",\n",
    "        \"email\": \"john.doe@example.com\"\n",
    "    },\n",
    "    address={\n",
    "        \"street\": \"123, Flavor Street\",\n",
    "        \"city\": \"Tastytown\",\n",
    "        \"state\": \"TS\",\n",
    "        \"zip_code\": \"12345\",\n",
    "    },\n",
    "    employees=[\n",
    "        {\n",
    "            \"name\": \"Jane Doe\",\n",
    "            \"position\": \"Chef\",\n",
    "            \"email\": \"jane.doe@example.com\"\n",
    "        },\n",
    "        {\n",
    "            \"name\": \"Mike Roe\",\n",
    "            \"position\": \"Waiter\",\n",
    "            \"email\": \"mike.roe@example.com\"\n",
    "        }\n",
    "    ],\n",
    "    number_of_seats=50,\n",
    "    delivery=True,\n",
    "    website=\"http://tastybites.com\"\n",
    ")\n",
    "\n",
    "# Printing the instance\n",
    "print(restaurant_instance)\n"
   ]
  },
  {
   "cell_type": "markdown",
   "metadata": {},
   "source": [
    "Field Validators"
   ]
  },
  {
   "cell_type": "code",
   "execution_count": null,
   "metadata": {},
   "outputs": [],
   "source": [
    "from pydantic import BaseModel, EmailStr, field_validator\n",
    "\n",
    "class Owner(BaseModel):\n",
    "    name: str\n",
    "    email: EmailStr\n",
    "\n",
    "    @field_validator('name')\n",
    "    @classmethod\n",
    "    def name_must_contain_space(cls, v: str) -> str:\n",
    "        if ' ' not in v:\n",
    "            raise ValueError('Owner name must contain a space')\n",
    "        return v.title()\n",
    "\n",
    "try:\n",
    "    owner_instance = Owner(name=\"JohnDoe\", email=\"john.doe@example.com\")\n",
    "except ValueError as e:\n",
    "    print(e)\n",
    "\n"
   ]
  },
  {
   "cell_type": "markdown",
   "metadata": {},
   "source": [
    "Model validators - allowing you to create a model before and after field validation"
   ]
  },
  {
   "cell_type": "code",
   "execution_count": null,
   "metadata": {},
   "outputs": [
    {
     "name": "stdout",
     "output_type": "stream",
     "text": [
      "1 validation error for Owner\n",
      "  Value error, Owner name must contain a space [type=value_error, input_value={'name': 'JohnDoe', 'emai... 'john.doe@example.com'}, input_type=dict]\n",
      "    For further information visit https://errors.pydantic.dev/2.10/v/value_error\n"
     ]
    }
   ],
   "source": [
    "from typing import Any\n",
    "from pydantic import BaseModel, EmailStr, ValidationError, model_validator\n",
    "\n",
    "class Owner(BaseModel):\n",
    "    name: str\n",
    "    email: EmailStr\n",
    "\n",
    "    @model_validator(mode='before')\n",
    "    @classmethod\n",
    "    def check_sensitive_info_omitted(cls, data: Any) -> Any:\n",
    "        if isinstance(data, dict):\n",
    "            if 'password' in data:\n",
    "                raise ValueError('password should not be included')\n",
    "            if 'card_number' in data:\n",
    "                raise ValueError('card_number should not be included')\n",
    "        return data\n",
    "\n",
    "    @model_validator(mode='after')\n",
    "    def check_name_contains_space(self) -> 'Owner':\n",
    "        if ' ' not in self.name:\n",
    "            raise ValueError('Owner name must contain a space')\n",
    "        return self\n",
    "\n",
    "\n",
    "try:\n",
    "    print(Owner(name=\"John Doe\", email=\"john.doe@example.com\"))\n",
    "    Owner(name=\"JohnDoe\", email=\"john.doe@example.com\", password=\"password123\")\n",
    "except ValidationError as e:\n",
    "    print(e)\n"
   ]
  },
  {
   "cell_type": "code",
   "execution_count": 8,
   "metadata": {},
   "outputs": [
    {
     "name": "stdout",
     "output_type": "stream",
     "text": [
      "1 validation error for Owner\n",
      "  Value error, Owner name must contain a space [type=value_error, input_value={'name': 'JohnDoe', 'emai... 'john.doe@example.com'}, input_type=dict]\n",
      "    For further information visit https://errors.pydantic.dev/2.10/v/value_error\n"
     ]
    }
   ],
   "source": [
    "try:\n",
    "    Owner(name=\"JohnDoe\", email=\"john.doe@example.com\")\n",
    "except ValidationError as e:\n",
    "    print(e)"
   ]
  },
  {
   "cell_type": "markdown",
   "metadata": {},
   "source": [
    "Fields - Used to customize and add metadata to fields of models"
   ]
  },
  {
   "cell_type": "code",
   "execution_count": null,
   "metadata": {},
   "outputs": [],
   "source": [
    "from pydantic import BaseModel, Field\n",
    "\n",
    "class User(BaseModel):\n",
    "    name: str = Field(default='John Doe')\n",
    "\n",
    "user = User()\n",
    "print(user)"
   ]
  },
  {
   "cell_type": "code",
   "execution_count": 9,
   "metadata": {},
   "outputs": [
    {
     "name": "stdout",
     "output_type": "stream",
     "text": [
      "id='c6b8973db0a2464e8f969ee9bfac0b06'\n"
     ]
    }
   ],
   "source": [
    "from uuid import uuid4\n",
    "\n",
    "from pydantic import BaseModel, Field\n",
    "\n",
    "class User(BaseModel):\n",
    "    id: int = Field(default_factory=lambda: uuid4().hex)\n",
    "\n",
    "user = User()\n",
    "print(user)"
   ]
  },
  {
   "cell_type": "markdown",
   "metadata": {},
   "source": [
    "Field aliases - For validation and serialization, you can define an alias for a field.\n",
    "\n",
    "There are three ways to define an alias:\n",
    "\n",
    "- `Field(..., alias='foo')`\n",
    "- `Field(..., validation_alias='foo')`\n",
    "- `Field(..., serialization_alias='foo')`"
   ]
  },
  {
   "cell_type": "code",
   "execution_count": null,
   "metadata": {},
   "outputs": [],
   "source": [
    "from pydantic import BaseModel, Field\n",
    "\n",
    "\n",
    "class User(BaseModel):\n",
    "    name: str = Field(..., alias='username')\n",
    "\n",
    "\n",
    "user = User(username='johndoe')\n",
    "print(user)\n",
    "print(user.model_dump(by_alias=True))"
   ]
  },
  {
   "cell_type": "markdown",
   "metadata": {},
   "source": [
    "But why would you want to do it? For example if you API and database fields differ - you only need one model"
   ]
  },
  {
   "cell_type": "markdown",
   "metadata": {},
   "source": [
    "Lets look at field constraints"
   ]
  },
  {
   "cell_type": "code",
   "execution_count": null,
   "metadata": {},
   "outputs": [],
   "source": [
    "from typing import List\n",
    "from pydantic import BaseModel, Field, EmailStr\n",
    "from decimal import Decimal\n",
    "\n",
    "class User(BaseModel):\n",
    "    username: str = Field(..., min_length=3, max_length=10, pattern=r'^\\w+$')\n",
    "    email: EmailStr = Field(...)\n",
    "    age: int = Field(..., gt=0, le=120)\n",
    "    height: float = Field(..., gt=0.0)\n",
    "    is_active: bool = Field(True)\n",
    "    balance: Decimal = Field(..., max_digits=10, decimal_places=2)\n",
    "    favorite_numbers: List[int] = Field(..., min_items=1)\n",
    "\n",
    "    @model_validator\n",
    "    def\n"
   ]
  },
  {
   "cell_type": "code",
   "execution_count": 12,
   "metadata": {},
   "outputs": [
    {
     "name": "stdout",
     "output_type": "stream",
     "text": [
      "username='john_doe' email='john.doe@example.com' age=30 height=5.9 is_active=True balance=Decimal('9999.99') favorite_numbers=[1, 2, 3]\n"
     ]
    }
   ],
   "source": [
    "user_instance = User(\n",
    "    username=\"john_doe\",\n",
    "    age=30,\n",
    "    height=5.9,\n",
    "    weight=160.5,\n",
    "    email=\"john.doe@example.com\",\n",
    "    password=\"securepassword\",\n",
    "    balance=9999.99,\n",
    "    favorite_numbers=[1,2,3]\n",
    ")\n",
    "\n",
    "print(user_instance)"
   ]
  },
  {
   "cell_type": "markdown",
   "metadata": {},
   "source": [
    "Computed Fields"
   ]
  },
  {
   "cell_type": "code",
   "execution_count": null,
   "metadata": {},
   "outputs": [],
   "source": [
    "from pydantic import BaseModel, computed_field\n",
    "from datetime import datetime\n",
    "\n",
    "\n",
    "class Person(BaseModel):\n",
    "    name: str\n",
    "    birth_year: int\n",
    "\n",
    "    @computed_field\n",
    "    @property\n",
    "    def age(self) -> int:\n",
    "        current_year = datetime.now().year\n",
    "        return current_year - self.birth_year\n",
    "\n",
    "\n",
    "print(Person(name=\"John Doe\", birth_year=2000).model_dump())\n"
   ]
  },
  {
   "cell_type": "code",
   "execution_count": 14,
   "metadata": {},
   "outputs": [
    {
     "name": "stdout",
     "output_type": "stream",
     "text": [
      "1 validation error for Person\n",
      "birth_year\n",
      "  Value error, Person must be 18 years or older [type=value_error, input_value=2016, input_type=int]\n",
      "    For further information visit https://errors.pydantic.dev/2.10/v/value_error\n"
     ]
    }
   ],
   "source": [
    "from pydantic import BaseModel, ValidationError, field_validator\n",
    "from datetime import datetime\n",
    "\n",
    "class Person(BaseModel):\n",
    "    name: str\n",
    "    birth_year: int\n",
    "\n",
    "    @property\n",
    "    def age(self) -> int:\n",
    "        current_year = datetime.now().year\n",
    "        return current_year - self.birth_year\n",
    "\n",
    "    @field_validator('birth_year')\n",
    "    @classmethod\n",
    "    def validate_age(cls, v: int) -> int:\n",
    "        current_year = datetime.now().year\n",
    "        if current_year - v < 18:\n",
    "            raise ValueError('Person must be 18 years or older')\n",
    "        return v\n",
    "\n",
    "try:\n",
    "    print(Person(name=\"John Doe\", birth_year=2016))\n",
    "except ValidationError as e:\n",
    "    print(e)\n"
   ]
  },
  {
   "cell_type": "markdown",
   "metadata": {},
   "source": [
    "You also also use dataclasses and pydantics validation logic - dataclasses do not provide that out of the box"
   ]
  },
  {
   "cell_type": "code",
   "execution_count": null,
   "metadata": {},
   "outputs": [],
   "source": [
    "from dataclasses import dataclass, field\n",
    "from typing import List, Optional\n",
    "from pydantic import Field, TypeAdapter\n",
    "\n",
    "\n",
    "@dataclass\n",
    "class User:\n",
    "    id: int\n",
    "    name: str = 'John Doe'\n",
    "    age: Optional[int] = field(\n",
    "        default=None,\n",
    "        metadata=dict(title='The age of the user', description='do not lie!', ge=18),\n",
    "    )\n",
    "    height: Optional[int] = Field(None, title='The height in cm', ge=50, le=300)\n",
    "    friends: List[int] = field(default_factory=lambda: [0])"
   ]
  },
  {
   "cell_type": "markdown",
   "metadata": {},
   "source": [
    "TypeAdapter\n",
    "\n",
    "You may have types that are not `BaseModels` that you want to validate data against. Or you may want to validate a `List[SomeModel]`, or dump it to JSON.\n",
    "\n",
    "For use cases like this, Pydantic provides `TypeAdapter`, which can be used for type validation, serialization, and JSON schema generation without creating a `BaseModel`.\n"
   ]
  },
  {
   "cell_type": "code",
   "execution_count": null,
   "metadata": {},
   "outputs": [],
   "source": [
    "# Example of using TypeAdapter to get json_schema of the User dataclass\n",
    "print(TypeAdapter(User).json_schema())"
   ]
  },
  {
   "cell_type": "markdown",
   "metadata": {},
   "source": [
    "### Strict mode\n",
    "\n",
    "Pydantic, by default, tries to coerce values to the declared type, converting inputs like the string \"123\" to integer 123, but this automatic conversion can be undesirable in situations where strict type compliance is required, causing a need for configurations to make Pydantic error out instead."
   ]
  },
  {
   "cell_type": "code",
   "execution_count": null,
   "metadata": {},
   "outputs": [],
   "source": [
    "from pydantic import BaseModel, ValidationError\n",
    "\n",
    "\n",
    "class User(BaseModel):\n",
    "    id: int\n",
    "    username: str\n",
    "\n",
    "\n",
    "print(User.model_validate({'id': '42', 'username': 'john_doe'}))  # lax mode\n",
    "#> id=42 username='john_doe'"
   ]
  },
  {
   "cell_type": "code",
   "execution_count": null,
   "metadata": {},
   "outputs": [],
   "source": [
    "try:\n",
    "    User.model_validate({'id': '42', 'username': 'john_doe'}, strict=True)  # strict mode\n",
    "except ValidationError as exc:\n",
    "    print(exc)"
   ]
  },
  {
   "cell_type": "markdown",
   "metadata": {},
   "source": [
    "Settings Management \n",
    "\n",
    "Pydantic Settings provides optional Pydantic features for loading a settings or config class from environment variables or secrets files."
   ]
  },
  {
   "cell_type": "code",
   "execution_count": null,
   "metadata": {},
   "outputs": [],
   "source": [
    "!pip install pydantic-settings"
   ]
  },
  {
   "cell_type": "code",
   "execution_count": null,
   "metadata": {},
   "outputs": [],
   "source": [
    "import os\n",
    "from pydantic import Field\n",
    "from pydantic_settings import BaseSettings\n",
    "\n",
    "\n",
    "class Settings(BaseSettings):\n",
    "    auth_key: str = Field(validation_alias='my_auth_key')\n",
    "    api_key: str = Field(alias='my_api_key')\n",
    "\n",
    "\n",
    "print(Settings().model_dump())"
   ]
  },
  {
   "cell_type": "code",
   "execution_count": null,
   "metadata": {},
   "outputs": [],
   "source": [
    "import os\n",
    "from pydantic import Field, AliasChoices\n",
    "from pydantic_settings import BaseSettings\n",
    "\n",
    "os.environ[\"AUTH_KEY\"] = \"test_auth_key\"\n",
    "os.environ[\"MY_API_KEY\"] = \"test\"\n",
    "os.environ[\"ENV2\"] = \"https://mysuperurl.com\"\n",
    "\n",
    "\n",
    "class Settings(BaseSettings):\n",
    "    service_name: str = Field(default=\"default\")\n",
    "    auth_key: str\n",
    "    api_key: str = Field(alias='my_api_key')\n",
    "    url: str = Field(validation_alias=AliasChoices(\"env1\", \"env2\"))\n",
    "\n",
    "\n",
    "print(Settings().model_dump())"
   ]
  },
  {
   "cell_type": "code",
   "execution_count": null,
   "metadata": {},
   "outputs": [],
   "source": [
    "import os\n",
    "from pydantic import Field\n",
    "from pydantic_settings import BaseSettings, SettingsConfigDict\n",
    "\n",
    "# Set environment variables with the prefix\n",
    "os.environ[\"PRODUCTION_AUTH_KEY\"] = \"test_auth_key\"\n",
    "os.environ[\"PRODUCTION_MY_API_KEY\"] = \"test\"\n",
    "os.environ[\"PRODUCTION_ENV2\"] = \"https://mysuperurl.com\"\n",
    "\n",
    "\n",
    "class Settings(BaseSettings):\n",
    "    model_config = SettingsConfigDict(env_prefix='production_')\n",
    "\n",
    "    service_name: str = Field(default=\"default\")\n",
    "    auth_key: str\n",
    "    api_key: str = Field(alias='my_api_key')\n",
    "    url: str = Field(validation_alias=AliasChoices(\"env1\", \"env2\"))\n",
    "\n",
    "print(Settings().model_dump())\n"
   ]
  },
  {
   "cell_type": "markdown",
   "metadata": {},
   "source": [
    "You can also use a .env file"
   ]
  },
  {
   "cell_type": "code",
   "execution_count": null,
   "metadata": {},
   "outputs": [],
   "source": [
    "from pydantic_settings import BaseSettings, SettingsConfigDict\n",
    "\n",
    "\n",
    "class Settings(BaseSettings):\n",
    "\n",
    "    model_config = SettingsConfigDict(env_file='.env', env_file_encoding='utf-8')\n",
    "\n",
    "    service_name: str = Field(default=\"default\")\n",
    "    auth_key: str\n",
    "    api_key: str = Field(alias='my_api_key')\n",
    "\n",
    "\n",
    "print(Settings().model_dump())"
   ]
  },
  {
   "cell_type": "markdown",
   "metadata": {},
   "source": [
    "Extra attributes (https://docs.pydantic.dev/2.3/usage/model_config/#extra-attributes)"
   ]
  },
  {
   "cell_type": "code",
   "execution_count": null,
   "metadata": {},
   "outputs": [],
   "source": [
    "from pydantic_settings import BaseSettings, SettingsConfigDict\n",
    "\n",
    "\n",
    "class Settings(BaseSettings):\n",
    "\n",
    "    model_config = SettingsConfigDict(env_file='.env', env_file_encoding='utf-8', extra=\"ignore\") # forbid, allow\n",
    "\n",
    "    service_name: str = Field(default=\"default\")\n",
    "    auth_key: str\n",
    "    api_key: str = Field(alias='my_api_key')\n",
    "\n",
    "\n",
    "print(Settings().model_dump())"
   ]
  }
 ],
 "metadata": {
  "kernelspec": {
   "display_name": "venv",
   "language": "python",
   "name": "python3"
  },
  "language_info": {
   "codemirror_mode": {
    "name": "ipython",
    "version": 3
   },
   "file_extension": ".py",
   "mimetype": "text/x-python",
   "name": "python",
   "nbconvert_exporter": "python",
   "pygments_lexer": "ipython3",
   "version": "3.13.0"
  },
  "orig_nbformat": 4
 },
 "nbformat": 4,
 "nbformat_minor": 2
}
